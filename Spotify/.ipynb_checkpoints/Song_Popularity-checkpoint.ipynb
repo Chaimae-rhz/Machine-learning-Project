{
 "cells": [
  {
   "cell_type": "code",
   "execution_count": null,
   "id": "42baa9a6-962d-4f48-ac38-5ea0ac4e940c",
   "metadata": {},
   "outputs": [],
   "source": [
    "import pandas as pd \n",
    "import seaborn as sns\n",
    "import matplotlib.pyplot as plt\n",
    "from sklearn.preprocessing import StandardScaler"
   ]
  },
  {
   "cell_type": "code",
   "execution_count": null,
   "id": "96abd6fe-db63-4033-8aff-6af05349b43d",
   "metadata": {},
   "outputs": [],
   "source": [
    "# Preparation des données\n",
    "df = pd.read_csv('data.csv')"
   ]
  },
  {
   "cell_type": "code",
   "execution_count": null,
   "id": "85bfae68-b832-4a52-950d-5682d524feaf",
   "metadata": {},
   "outputs": [],
   "source": [
    "df.info()"
   ]
  },
  {
   "cell_type": "code",
   "execution_count": null,
   "id": "07a6a077-e5d0-420c-99cb-321fb4aab1cf",
   "metadata": {},
   "outputs": [],
   "source": [
    "df.head()"
   ]
  },
  {
   "cell_type": "code",
   "execution_count": null,
   "id": "99181c09-e770-4153-aa50-c42fca168684",
   "metadata": {},
   "outputs": [],
   "source": [
    "df.describe()"
   ]
  },
  {
   "cell_type": "code",
   "execution_count": null,
   "id": "53936fe9-988f-4d94-9278-3b5112ba9da7",
   "metadata": {},
   "outputs": [],
   "source": [
    "# Étape nettoyage des données"
   ]
  },
  {
   "cell_type": "code",
   "execution_count": null,
   "id": "426ec1e9-bfff-491a-adba-7030ad900443",
   "metadata": {},
   "outputs": [],
   "source": [
    "# 1. Vérifier les valeurs manquantes\n",
    "df.isnull().sum() # Pas de valeurs manquantes"
   ]
  },
  {
   "cell_type": "code",
   "execution_count": null,
   "id": "9bbb024f-dde6-4e1a-8257-2616fcbcd95f",
   "metadata": {},
   "outputs": [],
   "source": [
    "# 2. Supprimer ou gérer les doublons\n",
    "df.duplicated().sum() # Pas de données dupliquées "
   ]
  },
  {
   "cell_type": "code",
   "execution_count": null,
   "id": "0f62074f-1d1a-4b4f-87b4-bb7725f8d789",
   "metadata": {},
   "outputs": [],
   "source": [
    "# 3. Vérifier les types des colonnes\n",
    "df['release_date'] = pd.to_datetime(df['release_date'], errors='coerce')\n",
    "print(df['release_date'].isnull().sum())  # voir combien de NaT après conversion\n"
   ]
  },
  {
   "cell_type": "code",
   "execution_count": null,
   "id": "6b2eca9e-6d52-4c19-b448-235bbb9d804e",
   "metadata": {},
   "outputs": [],
   "source": [
    "df = df.drop(columns=['release_date']) # Colonne inutile (Suppression)\n"
   ]
  },
  {
   "cell_type": "code",
   "execution_count": null,
   "id": "34c73505-a7d3-4639-bff3-64bfb1d1e92a",
   "metadata": {},
   "outputs": [],
   "source": [
    "df['explicit'] = df['explicit'].astype(bool)\n",
    "df['mode'] = df['mode'].astype(bool)\n"
   ]
  },
  {
   "cell_type": "code",
   "execution_count": null,
   "id": "3f8fe353-fa06-4f05-b0ae-95d0fbfe007b",
   "metadata": {},
   "outputs": [],
   "source": [
    "df.info()"
   ]
  },
  {
   "cell_type": "code",
   "execution_count": null,
   "id": "d91b6521-f515-4195-ae2f-aeb3afba8594",
   "metadata": {},
   "outputs": [],
   "source": [
    "# 4. Rechercher les valeurs aberrantes\n",
    "sns.boxplot(data=df, x='duration_ms')\n",
    "plt.title(\"Boxplot de la durée des chansons\")\n",
    "plt.show()"
   ]
  },
  {
   "cell_type": "code",
   "execution_count": null,
   "id": "474939a1-e4dd-405d-ab5d-ce316f0416cf",
   "metadata": {},
   "outputs": [],
   "source": [
    "# Capping des valeurs extrêmes (1er et 99e percentile)\n",
    "q_low = df['duration_ms'].quantile(0.01)\n",
    "q_high = df['duration_ms'].quantile(0.99)\n",
    "\n",
    "df['duration_ms_capped'] = df['duration_ms'].clip(lower=q_low, upper=q_high)\n"
   ]
  },
  {
   "cell_type": "code",
   "execution_count": null,
   "id": "9e72c720-1478-4154-b3f9-6407727ac92d",
   "metadata": {},
   "outputs": [],
   "source": [
    "sns.boxplot(data=df, x='duration_ms_capped')\n",
    "plt.title(\"Boxplot de la durée des chansons (capped)\")\n",
    "plt.show()\n"
   ]
  },
  {
   "cell_type": "code",
   "execution_count": null,
   "id": "7122ced1-bdc8-46c0-86c6-cdda7cfda02f",
   "metadata": {},
   "outputs": [],
   "source": [
    "sns.boxplot(data=df, x='loudness')\n",
    "plt.title(\"Boxplot de la durée des chansons\")\n",
    "plt.show()\n"
   ]
  },
  {
   "cell_type": "code",
   "execution_count": null,
   "id": "3b69f84d-2dcc-48c5-a80b-95056bf9e725",
   "metadata": {},
   "outputs": [],
   "source": [
    "df['loudness_capped'] = df['loudness'].clip(lower=-35, upper=-1)\n",
    "sns.boxplot(data=df, x='loudness_capped')\n",
    "plt.title(\"Boxplot loudness des chansons (capped)\")\n",
    "plt.show()\n"
   ]
  },
  {
   "cell_type": "code",
   "execution_count": null,
   "id": "550f478c-b745-4a93-9692-490909cc0ab1",
   "metadata": {},
   "outputs": [],
   "source": [
    "sns.boxplot(data=df, x='tempo')\n",
    "plt.title(\"Boxplot de la durée des chansons\")\n",
    "plt.show()"
   ]
  },
  {
   "cell_type": "code",
   "execution_count": null,
   "id": "dc73861d-8b62-4fc4-99b3-bcbfe2085035",
   "metadata": {},
   "outputs": [],
   "source": [
    "# Capping pour tempo : raisonnable entre 40 et 200 bpm\n",
    "df['tempo_capped'] = df['tempo'].clip(lower=40, upper=200)\n",
    "\n",
    "sns.boxplot(data=df, x='tempo_capped')\n",
    "plt.title(\"Boxplot loudness des chansons (capped)\")\n",
    "plt.show()"
   ]
  },
  {
   "cell_type": "code",
   "execution_count": null,
   "id": "9f3c8437-0953-4e2a-ba9d-76f301f92ca9",
   "metadata": {},
   "outputs": [],
   "source": [
    "# 5. Uniformiser les données catégoriques\n",
    "df['artists'].unique()"
   ]
  },
  {
   "cell_type": "code",
   "execution_count": null,
   "id": "4542ff05-a660-42b7-8952-5df31a359627",
   "metadata": {},
   "outputs": [],
   "source": [
    "# Mettre en minuscules\n",
    "df['artists'] = df['artists'].str.lower()\n",
    "\n",
    "# Enlever les espaces avant/après\n",
    "df['artists'] = df['artists'].str.strip()"
   ]
  },
  {
   "cell_type": "code",
   "execution_count": null,
   "id": "b775a809-8a33-436c-8ad1-9af3ddabc538",
   "metadata": {},
   "outputs": [],
   "source": [
    "df['artists'].unique()"
   ]
  },
  {
   "cell_type": "code",
   "execution_count": null,
   "id": "10c0574c-240a-4b22-8f9c-0ad561c70050",
   "metadata": {},
   "outputs": [],
   "source": [
    "# 6. Nettoyer les colonnes inutiles ou redondantes\n",
    "cols_to_drop = ['id', 'name', 'key']\n",
    "df = df.drop(columns=cols_to_drop)"
   ]
  },
  {
   "cell_type": "code",
   "execution_count": null,
   "id": "a7615ad3-8071-48f1-97ef-4d600733cbbf",
   "metadata": {},
   "outputs": [],
   "source": [
    "df.duplicated().sum()"
   ]
  },
  {
   "cell_type": "code",
   "execution_count": null,
   "id": "054eac07-2e63-4bbf-b5f5-f955056d3573",
   "metadata": {},
   "outputs": [],
   "source": [
    "df = df.drop_duplicates()\n"
   ]
  },
  {
   "cell_type": "code",
   "execution_count": null,
   "id": "0d9f7c17-0710-4d09-aa17-3c5151efff1d",
   "metadata": {},
   "outputs": [],
   "source": [
    "df.duplicated().sum()"
   ]
  },
  {
   "cell_type": "code",
   "execution_count": null,
   "id": "002034c4-757d-4167-b131-a51b786f7fd2",
   "metadata": {},
   "outputs": [],
   "source": [
    "df.describe()"
   ]
  },
  {
   "cell_type": "code",
   "execution_count": null,
   "id": "45bd5062-6a38-4f47-9497-8a4817f108eb",
   "metadata": {},
   "outputs": [],
   "source": [
    "# Normalisation avec StandardScaler\n",
    "numeric_colomns = [ 'valence', 'acousticness', 'danceability', 'duration_ms_capped', \n",
    "                   'energy', 'instrumentalness', 'liveness', 'loudness_capped', 'speechiness',\n",
    "                   'tempo_capped']\n",
    "scaler = StandardScaler()\n",
    "X_scaled = scaler.fit_transform(df[numeric_colomns])\n",
    "\n",
    "df_scaled = pd.DataFrame(X_scaled, columns=numeric_colomns)\n",
    "\n",
    "\n",
    "df_scaled['popularity'] = df['popularity'].values\n",
    "df_scaled['popularity_target'] = df_scaled['popularity'].apply(lambda x: 1 if x >= df['popularity'].median() else 0)\n",
    "df_scaled.head()"
   ]
  },
  {
   "cell_type": "code",
   "execution_count": null,
   "id": "e0751419-af49-4dd6-9238-e7b1b0af921b",
   "metadata": {},
   "outputs": [],
   "source": [
    "# Analyse exploratoire des données(EDA)"
   ]
  },
  {
   "cell_type": "code",
   "execution_count": null,
   "id": "71280a35-d4e3-4927-baf2-be013ce1b355",
   "metadata": {},
   "outputs": [],
   "source": [
    "# Visualiser chaque distribution avec un histogramme\n",
    "for col in df_scaled.columns:\n",
    "    plt.figure(figsize=(6, 4))\n",
    "    sns.histplot(df_scaled[col], kde=True, bins=30, color='skyblue')\n",
    "    plt.title(f'Distribution de {col} (normalisée)')\n",
    "    plt.xlabel(col)\n",
    "    plt.ylabel('Fréquence')\n",
    "    plt.grid(True)\n",
    "    plt.tight_layout()\n",
    "    plt.show()"
   ]
  },
  {
   "cell_type": "code",
   "execution_count": null,
   "id": "65333af6-846e-4d6c-ac1e-188faf33056c",
   "metadata": {},
   "outputs": [],
   "source": []
  },
  {
   "cell_type": "code",
   "execution_count": null,
   "id": "d251baf9-e255-4d22-8f67-f284afed9bd9",
   "metadata": {},
   "outputs": [],
   "source": []
  }
 ],
 "metadata": {
  "kernelspec": {
   "display_name": "Python [conda env:base] *",
   "language": "python",
   "name": "conda-base-py"
  },
  "language_info": {
   "codemirror_mode": {
    "name": "ipython",
    "version": 3
   },
   "file_extension": ".py",
   "mimetype": "text/x-python",
   "name": "python",
   "nbconvert_exporter": "python",
   "pygments_lexer": "ipython3",
   "version": "3.13.5"
  }
 },
 "nbformat": 4,
 "nbformat_minor": 5
}
